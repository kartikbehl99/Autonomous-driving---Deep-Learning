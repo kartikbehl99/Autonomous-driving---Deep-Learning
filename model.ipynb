{
 "cells": [
  {
   "cell_type": "code",
   "execution_count": 1,
   "metadata": {},
   "outputs": [
    {
     "name": "stderr",
     "output_type": "stream",
     "text": [
      "Using TensorFlow backend.\n"
     ]
    }
   ],
   "source": [
    "import numpy as np\n",
    "import pandas as pd\n",
    "import cv2, os\n",
    "from sklearn.model_selection import train_test_split\n",
    "from keras.models import Sequential\n",
    "from keras.layers import Lambda, Conv2D, MaxPool2D, Dropout, Dense, Flatten, Cropping2D\n",
    "from keras.optimizers import Adam\n",
    "from keras.callbacks import ModelCheckpoint\n",
    "import matplotlib.pyplot as plt\n",
    "import matplotlib.image as mpimg\n",
    "import PIL, argparse"
   ]
  },
  {
   "cell_type": "code",
   "execution_count": 2,
   "metadata": {},
   "outputs": [],
   "source": [
    "TRAINING_DIR = '/home/kartik/Desktop/Autonomous_driving'\n",
    "DRIVING_LOG = os.path.join(TRAINING_DIR, 'driving_log.csv')\n",
    "CORRECTION = 0.3"
   ]
  },
  {
   "cell_type": "code",
   "execution_count": 3,
   "metadata": {},
   "outputs": [],
   "source": [
    "def load_data(directory):\n",
    "    data_frame = pd.read_csv(DRIVING_LOG)\n",
    "    center_images = data_frame['center']\n",
    "    left_images = data_frame['left']\n",
    "    right_images = data_frame['right']\n",
    "    steering = data_frame['steering']\n",
    "    throttle = data_frame['throttle']\n",
    "    breaks = data_frame['break']\n",
    "    speed = data_frame['break']\n",
    "    \n",
    "    return center_images, left_images, right_images, steering, throttle, breaks, speed"
   ]
  },
  {
   "cell_type": "code",
   "execution_count": 4,
   "metadata": {},
   "outputs": [],
   "source": [
    "def augment_images(images, measurements, correction = 0.0):\n",
    "    augmented_images = []\n",
    "    augmented_measurements = []\n",
    "    \n",
    "    for image, measurement in zip(images, measurements):\n",
    "        correct_measurement = measurement + correction\n",
    "        augmented_images.append(image)\n",
    "        augmented_measurements.append(correct_measurement)\n",
    "        augmented_images.append(cv2.flip(image, 1))\n",
    "        augmented_measurements.append(correct_measurement*-1)\n",
    "        \n",
    "    return augmented_images, augmented_measurements"
   ]
  },
  {
   "cell_type": "code",
   "execution_count": 5,
   "metadata": {},
   "outputs": [],
   "source": [
    "def plot_fit_history(fit_history_obj):\n",
    "    plt.plot(fit_history_obj.history['loss'])\n",
    "    plt.plot(fit_history_obj.history['val_loss'])\n",
    "    plt.title('model mean squared error loss')\n",
    "    plt.ylabel('mean squared error loss')\n",
    "    plt.xlabel('epoch')\n",
    "    plt.legend(['training set', 'validation set'], loc='upper right')\n",
    "    plt.show()"
   ]
  },
  {
   "cell_type": "code",
   "execution_count": 6,
   "metadata": {},
   "outputs": [],
   "source": [
    "def loading_images(center_images_list, left_images_list, right_images_list):\n",
    "    center_images = []\n",
    "    left_images = []\n",
    "    right_images = []\n",
    "\n",
    "    for i in range(len(center_images_list)):\n",
    "        center_images.append(cv2.imread(center_images_list[i]))\n",
    "        left_images.append(cv2.imread(left_images_list[i]))\n",
    "        right_images.append(cv2.imread(right_images_list[i]))\n",
    "    \n",
    "    return center_images, left_images, right_images"
   ]
  },
  {
   "cell_type": "code",
   "execution_count": 7,
   "metadata": {},
   "outputs": [],
   "source": [
    "def augmenting(center_images, left_images, right_images, steering):\n",
    "    augmented_center_images, augmented_center_measurements = augment_images(center_images, steering)\n",
    "    augmented_left_images, augmented_left_measurements = augment_images(left_images, steering, CORRECTION)\n",
    "    augmented_right_images, augmented_right_measurements = augment_images(right_images, steering, CORRECTION*-1)\n",
    "    augmented_imgs = augmented_center_images + augmented_left_images + augmented_right_images\n",
    "    augmented_measurements = augmented_center_measurements + augmented_left_measurements + augmented_right_measurements\n",
    "    \n",
    "    return augmented_imgs, augmented_measurements"
   ]
  },
  {
   "cell_type": "code",
   "execution_count": 8,
   "metadata": {},
   "outputs": [],
   "source": [
    "center_images_list, left_images_list, right_images_list, steering, throttle, breaks, speed = load_data(DRIVING_LOG)"
   ]
  },
  {
   "cell_type": "code",
   "execution_count": 9,
   "metadata": {},
   "outputs": [],
   "source": [
    "center_images, left_images, right_images = loading_images(center_images_list, left_images_list, right_images_list)"
   ]
  },
  {
   "cell_type": "code",
   "execution_count": 10,
   "metadata": {},
   "outputs": [],
   "source": [
    "augmented_images, augmented_measurements = augmenting(center_images, left_images, right_images, steering)"
   ]
  },
  {
   "cell_type": "code",
   "execution_count": 11,
   "metadata": {},
   "outputs": [],
   "source": [
    "X, Y = augmented_images, augmented_measurements\n",
    "X = np.array(X)\n",
    "Y = np.array(Y)"
   ]
  },
  {
   "cell_type": "code",
   "execution_count": 12,
   "metadata": {},
   "outputs": [],
   "source": [
    "X_train, X_test, Y_train, Y_test = train_test_split(X, Y, test_size=0.2, shuffle=True, random_state=False)"
   ]
  },
  {
   "cell_type": "code",
   "execution_count": 13,
   "metadata": {},
   "outputs": [],
   "source": [
    "dictionary = {}\n",
    "dictionary['train'] = ['X_train', 'Y_train']\n",
    "dictionary['test'] = ['X_test', 'Y_test']"
   ]
  },
  {
   "cell_type": "code",
   "execution_count": 15,
   "metadata": {},
   "outputs": [],
   "source": [
    "labels = {}\n",
    "labels['X_train'] = X_train\n",
    "labels['Y_train'] = Y_train\n",
    "labels['X_test'] = X_test\n",
    "labels['Y_test'] = Y_test"
   ]
  },
  {
   "cell_type": "code",
   "execution_count": 15,
   "metadata": {},
   "outputs": [],
   "source": [
    "# def batch_generator(x, y, batch_size=100):\n",
    "#     while True:\n",
    "        "
   ]
  },
  {
   "cell_type": "code",
   "execution_count": 16,
   "metadata": {},
   "outputs": [],
   "source": [
    "model = Sequential()\n",
    "model.add(Cropping2D(cropping=((70, 25), (0, 0))))\n",
    "model.add(Lambda(lambda x: x / 255.0 - 0.5, input_shape=(160, 225, 3)))\n",
    "model.add(Conv2D(24, (5, 5), strides=(2, 2), activation='relu'))\n",
    "model.add(Conv2D(36, (5, 5), strides=(2, 2), activation='relu'))\n",
    "model.add(Conv2D(48, (5, 5), strides=(2, 2), activation='relu'))\n",
    "model.add(Conv2D(64, (3, 3), strides=(2, 2), activation='relu'))\n",
    "model.add(Flatten())\n",
    "model.add(Dropout(0.3))\n",
    "model.add(Dense(100))\n",
    "model.add(Dropout(0.3))\n",
    "model.add(Dense(50))\n",
    "model.add(Dropout(0.2))\n",
    "model.add(Dense(1))\n",
    "model.compile(loss='mse', optimizer='adam')"
   ]
  },
  {
   "cell_type": "code",
   "execution_count": 17,
   "metadata": {},
   "outputs": [
    {
     "name": "stdout",
     "output_type": "stream",
     "text": [
      "Train on 20160 samples, validate on 5040 samples\n",
      "Epoch 1/6\n",
      "20160/20160 [==============================] - 176s 9ms/step - loss: 0.0463 - val_loss: 0.0541\n",
      "Epoch 2/6\n",
      "20160/20160 [==============================] - 81s 4ms/step - loss: 0.0375 - val_loss: 0.0581\n",
      "Epoch 3/6\n",
      "20160/20160 [==============================] - 105s 5ms/step - loss: 0.0341 - val_loss: 0.0624\n",
      "Epoch 4/6\n",
      "20160/20160 [==============================] - 80s 4ms/step - loss: 0.0314 - val_loss: 0.0565\n",
      "Epoch 5/6\n",
      "20160/20160 [==============================] - 104s 5ms/step - loss: 0.0299 - val_loss: 0.0507\n",
      "Epoch 6/6\n",
      "20160/20160 [==============================] - 103s 5ms/step - loss: 0.0274 - val_loss: 0.0566\n",
      "_________________________________________________________________\n",
      "Layer (type)                 Output Shape              Param #   \n",
      "=================================================================\n",
      "cropping2d_1 (Cropping2D)    (None, 65, 320, 3)        0         \n",
      "_________________________________________________________________\n",
      "lambda_1 (Lambda)            (None, 65, 320, 3)        0         \n",
      "_________________________________________________________________\n",
      "conv2d_1 (Conv2D)            (None, 31, 158, 24)       1824      \n",
      "_________________________________________________________________\n",
      "conv2d_2 (Conv2D)            (None, 14, 77, 36)        21636     \n",
      "_________________________________________________________________\n",
      "conv2d_3 (Conv2D)            (None, 5, 37, 48)         43248     \n",
      "_________________________________________________________________\n",
      "conv2d_4 (Conv2D)            (None, 2, 18, 64)         27712     \n",
      "_________________________________________________________________\n",
      "flatten_1 (Flatten)          (None, 2304)              0         \n",
      "_________________________________________________________________\n",
      "dropout_1 (Dropout)          (None, 2304)              0         \n",
      "_________________________________________________________________\n",
      "dense_1 (Dense)              (None, 100)               230500    \n",
      "_________________________________________________________________\n",
      "dropout_2 (Dropout)          (None, 100)               0         \n",
      "_________________________________________________________________\n",
      "dense_2 (Dense)              (None, 50)                5050      \n",
      "_________________________________________________________________\n",
      "dropout_3 (Dropout)          (None, 50)                0         \n",
      "_________________________________________________________________\n",
      "dense_3 (Dense)              (None, 1)                 51        \n",
      "=================================================================\n",
      "Total params: 330,021\n",
      "Trainable params: 330,021\n",
      "Non-trainable params: 0\n",
      "_________________________________________________________________\n"
     ]
    }
   ],
   "source": [
    "fit_hist = model.fit(X, Y, validation_split=0.2, shuffle=True, epochs=6)\n",
    "model.save('model.h5')\n",
    "model.summary()"
   ]
  },
  {
   "cell_type": "code",
   "execution_count": 18,
   "metadata": {},
   "outputs": [
    {
     "data": {
      "image/png": "[encoded data removed]",
      "text/plain": [
       "<Figure size 432x288 with 1 Axes>"
      ]
     },
     "metadata": {
      "needs_background": "light"
     },
     "output_type": "display_data"
    }
   ],
   "source": [
    "plot_fit_history(fit_hist)"
   ]
  }
 ],
 "metadata": {
  "kernelspec": {
   "display_name": "Python 3",
   "language": "python",
   "name": "python3"
  },
  "language_info": {
   "codemirror_mode": {
    "name": "ipython",
    "version": 3
   },
   "file_extension": ".py",
   "mimetype": "text/x-python",
   "name": "python",
   "nbconvert_exporter": "python",
   "pygments_lexer": "ipython3",
   "version": "3.6.7"
  }
 },
 "nbformat": 4,
 "nbformat_minor": 2
}
